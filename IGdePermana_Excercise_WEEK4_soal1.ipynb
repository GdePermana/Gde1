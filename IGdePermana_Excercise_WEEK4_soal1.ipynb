{
  "nbformat": 4,
  "nbformat_minor": 0,
  "metadata": {
    "colab": {
      "provenance": [],
      "collapsed_sections": [
        "sMMfv8sK8jJz",
        "xsUAqsjvIBVH",
        "1Lvmi7SKAR2A",
        "EOdMk1QDDWhA"
      ]
    },
    "kernelspec": {
      "name": "python3",
      "display_name": "Python 3"
    },
    "language_info": {
      "name": "python"
    }
  },
  "cells": [
    {
      "cell_type": "markdown",
      "source": [
        "# Week 4 - Python Programming\n",
        "---\n",
        "\n",
        "Mentoring Session - Job Preparation Program - Pacmann AI"
      ],
      "metadata": {
        "id": "oiHKP1fFcQg8"
      }
    },
    {
      "cell_type": "markdown",
      "source": [
        "# Task 1. Return count of domain\n",
        "\n",
        "Category: Easy\n",
        "\n",
        "---"
      ],
      "metadata": {
        "id": "sMMfv8sK8jJz"
      }
    },
    {
      "cell_type": "markdown",
      "source": [
        "## Task Descriptions\n",
        "---\n",
        "- Create a function to return the count of email domain from a set of mailing list."
      ],
      "metadata": {
        "id": "8hXTw4yi8jKc"
      }
    },
    {
      "cell_type": "markdown",
      "source": [
        "**Examples**\n",
        "- Given a mailing list\n",
        "\n",
        "```python\n",
        "mailing_list = [\n",
        "    'abc@gmail.com',\n",
        "    'def@hotmail.com',\n",
        "    'ijk@gmail.com',\n",
        "    'jkl@ymail.com',\n",
        "    'def@pacmannai.com',\n",
        "    'pqr@gmail.com',\n",
        "    'xyz@hotmail.com'\n",
        "]\n",
        "```"
      ],
      "metadata": {
        "id": "SUwh0w7q8jKd"
      }
    },
    {
      "cell_type": "markdown",
      "source": [
        "- So, the count of email domain would be (have to be sorted according to alphabet)\n",
        "\n",
        "```python\n",
        "count_domain = {\n",
        "    'gmail.com': 3,\n",
        "    'hotmail.com': 2,\n",
        "    'pacmannai.com': 1,\n",
        "    'ymail.com': 1\n",
        "}\n",
        "```"
      ],
      "metadata": {
        "id": "zzlaI63A9gYT"
      }
    },
    {
      "cell_type": "markdown",
      "source": [
        "## Detail function\n",
        "---"
      ],
      "metadata": {
        "id": "R_bPLY6K8jKe"
      }
    },
    {
      "cell_type": "markdown",
      "source": [
        "- Create a function named `count_email_domain` with\n",
        "  - Input `mailing_list` (list), contains the client email addresses\n",
        "  - Output `count_domain` (dictionary), contains the count of domain according to the given example"
      ],
      "metadata": {
        "id": "8_zTMoMv8jKf"
      }
    },
    {
      "cell_type": "markdown",
      "source": [
        "## Examples\n",
        "---"
      ],
      "metadata": {
        "id": "mukt9DGJ8jKf"
      }
    },
    {
      "cell_type": "markdown",
      "source": [
        "**Input 1**\n",
        "\n",
        "```python\n",
        "# Input\n",
        "mailing_list = [\n",
        "    'abc@gmail.com',\n",
        "    'def@hotmail.com',\n",
        "    'ijk@gmail.com',\n",
        "    'jkl@ymail.com',\n",
        "    'def@pacmannai.com',\n",
        "    'pqr@gmail.com',\n",
        "    'xyz@hotmail.com'\n",
        "]\n",
        "\n",
        "res = count_email_domain(mailing_list = mailing_list)\n",
        "print(res)\n",
        "```\n",
        "\n",
        "**Output 1**\n",
        "```python\n",
        "{'gmail.com': 3, 'hotmail.com': 2, 'pacmannai.com': 1, 'ymail.com': 1}\n",
        "```"
      ],
      "metadata": {
        "id": "UZ3v9gF38jKg"
      }
    },
    {
      "cell_type": "markdown",
      "source": [
        "**Input 2**\n",
        "\n",
        "```python\n",
        "# Input\n",
        "mailing_list = [\n",
        "    'abc@gmail.com',\n",
        "    'def@hotmail.com',\n",
        "    'ijk@gmail.com',\n",
        "    'def@pacmannai.com',\n",
        "    'pqr@jkt.gov.id',\n",
        "    'xyz@hotmail.com',\n",
        "    '12301k@tribun.co.id',\n",
        "    'jgkor03@twitter.com',\n",
        "    'jskr@jkt.gov.id'\n",
        "]\n",
        "\n",
        "res = count_email_domain(mailing_list = mailing_list)\n",
        "print(res)\n",
        "```\n",
        "\n",
        "**Output 2**\n",
        "```python\n",
        "{'gmail.com': 2, 'hotmail.com': 2, 'jkt.gov.id': 2, 'pacmannai.com': 1, 'tribun.co.id': 1, 'twitter.com': 1}\n",
        "```"
      ],
      "metadata": {
        "id": "7Tpe4zLY8jKg"
      }
    },
    {
      "cell_type": "markdown",
      "source": [
        "## Answer\n",
        "\n",
        "---\n",
        "- Provide the code for solving the problem\n",
        "- **Make sure your function follows the `Detail Function`**"
      ],
      "metadata": {
        "id": "03X_QrF38jKh"
      }
    },
    {
      "cell_type": "code",
      "execution_count": null,
      "metadata": {
        "id": "oSWuJ6g08jKi",
        "colab": {
          "base_uri": "https://localhost:8080/"
        },
        "outputId": "a63c2eca-5f41-4309-9e83-89b6f4236d07"
      },
      "outputs": [
        {
          "output_type": "stream",
          "name": "stdout",
          "text": [
            "gmail.com 2\n",
            "hotmail.com 2\n",
            "jkt.gov.id 2\n",
            "pacmannai.com 1\n",
            "tribun.co.id 1\n",
            "twitter.com 1\n"
          ]
        }
      ],
      "source": [
        "mailing_list = [\n",
        "    'abc@gmail.com',\n",
        "    'def@hotmail.com',\n",
        "    'ijk@gmail.com',\n",
        "    'def@pacmannai.com',\n",
        "    'pqr@jkt.gov.id',\n",
        "    'xyz@hotmail.com',\n",
        "    '12301k@tribun.co.id',\n",
        "    'jgkor03@twitter.com',\n",
        "    'jskr@jkt.gov.id'\n",
        "]\n",
        "\n",
        "def count_email(mailing_list):\n",
        "    domain_list = dict()\n",
        "    ans =[]\n",
        "\n",
        "    i = 1\n",
        "    for i in range(len(mailing_list)):\n",
        "      find_domain = mailing_list[i].index('@')\n",
        "\n",
        "      if mailing_list[i][find_domain +1::] in domain_list:\n",
        "            domain_list[mailing_list[i][find_domain +1::]] += 1\n",
        "      else:\n",
        "            domain_list[mailing_list[i][find_domain +1::]] = 1\n",
        "\n",
        "    for it in domain_list:\n",
        "        ans.append([it, domain_list[it]])\n",
        "\n",
        "    ans.sort()\n",
        "    return ans\n",
        "\n",
        "res = []\n",
        "res = count_email(mailing_list)\n",
        "\n",
        "for i in range(len(res)):\n",
        "    print(res[i][0], res[i][1])"
      ]
    },
    {
      "cell_type": "markdown",
      "source": [
        "# Task 2. Fibonacci Prime\n",
        "\n",
        "Category: Medium\n",
        "\n",
        "---"
      ],
      "metadata": {
        "id": "xsUAqsjvIBVH"
      }
    },
    {
      "cell_type": "markdown",
      "source": [
        "## Task Descriptions\n",
        "---\n",
        "- Create a function to find the first `n` Fibonacci Prime Number."
      ],
      "metadata": {
        "id": "umey3GqiIBVK"
      }
    },
    {
      "cell_type": "markdown",
      "source": [
        "**Fibonacci number**\n",
        "- Fibonacci number is a number that follows this sequence\n",
        "\n",
        "$$\n",
        "n_{i} = n_{i-1} + n_{i-2}\n",
        "$$"
      ],
      "metadata": {
        "id": "0_ax_ZPM398v"
      }
    },
    {
      "cell_type": "markdown",
      "source": [
        "- with $n_{1}=1$ and $n_{2}=1$\n",
        "- So, the first 10 Fibonacci number is\n",
        "\n",
        "$$\n",
        "1, 1, 2, 3, 5, 8, 13, 21, 34, 55\n",
        "$$"
      ],
      "metadata": {
        "id": "kwWpm7zp4Cx4"
      }
    },
    {
      "cell_type": "markdown",
      "source": [
        "**Prime number**\n",
        "- A prime number is a number which only have 2 divisors, that is $1$ and the number itself.\n",
        "- Example\n",
        "  - $2$ is a prime number. Divisors of $2$ are $1$ and $2$\n",
        "  - $10$ is **not** a prime number. Divisors of $10$ are $1$, $2$, $5$, and $10$.\n",
        "  - $13$ is a prime number. Divisors of $13$ are $1$ and $13$"
      ],
      "metadata": {
        "id": "z-x0d-cx4SbE"
      }
    },
    {
      "cell_type": "markdown",
      "source": [
        "## Detail function\n",
        "---"
      ],
      "metadata": {
        "id": "_EeYAzGD4sCG"
      }
    },
    {
      "cell_type": "markdown",
      "source": [
        "- Create a function named `fibonacci_prime` with\n",
        "  - Input `n` (integer)\n",
        "  - Output `numbers` (list), contains the first `n` Fibonacci prime number"
      ],
      "metadata": {
        "id": "jHWrNQO_4zos"
      }
    },
    {
      "cell_type": "markdown",
      "source": [
        "## Examples\n",
        "---"
      ],
      "metadata": {
        "id": "XXX4U4eA5RgM"
      }
    },
    {
      "cell_type": "markdown",
      "source": [
        "**Input 1**\n",
        "\n",
        "```python\n",
        "# Input\n",
        "res = fibonacci_prime(n = 5)\n",
        "print(res)\n",
        "```\n",
        "\n",
        "**Output 1**\n",
        "```python\n",
        "[2, 3, 5, 13, 89]\n",
        "```"
      ],
      "metadata": {
        "id": "X6-yzPcg6m5T"
      }
    },
    {
      "cell_type": "markdown",
      "source": [
        "**Input 2**\n",
        "\n",
        "```python\n",
        "# Input\n",
        "res = fibonacci_prime(n = 10)\n",
        "print(res)\n",
        "```\n",
        "\n",
        "**Output 2**\n",
        "```python\n",
        "[2, 3, 5, 13, 89, 233, 1597, 28657, 514229, 433494437]\n",
        "```"
      ],
      "metadata": {
        "id": "jYhlUltJ6-7P"
      }
    },
    {
      "cell_type": "markdown",
      "source": [
        "## Answer\n",
        "\n",
        "---\n",
        "- Provide the code for solving the problem\n",
        "- **Make sure your function follows the `Detail Function`**"
      ],
      "metadata": {
        "id": "5bdXSNiOIBVW"
      }
    },
    {
      "cell_type": "code",
      "execution_count": null,
      "metadata": {
        "id": "ef5DHr8rIBVX",
        "colab": {
          "base_uri": "https://localhost:8080/"
        },
        "outputId": "10ffbf6f-f4b8-4ec8-8dd2-7b6cf0a00b71"
      },
      "outputs": [
        {
          "output_type": "execute_result",
          "data": {
            "text/plain": [
              "[1, 1, 2, 3, 5, 8, 13, 21, 34, 55]"
            ]
          },
          "metadata": {},
          "execution_count": 5
        }
      ],
      "source": [
        "input_ = [1, 1, 2, 3, 5, 8, 13, 21, 34, 55]\n",
        "\n"
      ]
    },
    {
      "cell_type": "markdown",
      "source": [
        "# Task 3. Accuracy Metrics in Classifications\n",
        "\n",
        "Category: Medium\n",
        "\n",
        "---"
      ],
      "metadata": {
        "id": "1Lvmi7SKAR2A"
      }
    },
    {
      "cell_type": "markdown",
      "source": [
        "## Task Descriptions\n",
        "---\n",
        "- Create a **lambda** function to calculate the accuracy of given prediction"
      ],
      "metadata": {
        "id": "KOrJ-tmbAR2X"
      }
    },
    {
      "cell_type": "markdown",
      "source": [
        "**Accuracy**\n",
        "- You can use accuracy metrics to measure classification model performance.\n",
        "- Given a below data\n",
        "\n",
        "<center>\n",
        "\n",
        "|Real Value|Predicted Value|Status|\n",
        "|:--:|:--:|:--:|\n",
        "|1|0|**False** prediction|\n",
        "|1|1|Correct prediction|\n",
        "|0|0|Correct prediction|\n",
        "|0|1|**False** prediction|\n",
        "|1|1|Correct prediction|\n",
        "|1|1|Correct prediction|\n",
        "|0|0|Correct prediction|\n",
        "|1|1|Correct prediction|\n",
        "\n",
        "</center>\n",
        "\n",
        "- If you predict `0` and the real value is `0`, you predict correctly\n",
        "- If you predict `1` and the real value is `1`, you predict correctly\n",
        "- If you predict `0` while the real value is `1`, you mispredict it.\n",
        "- If you predict `1` while the real value is `0`, you also mispredict it."
      ],
      "metadata": {
        "id": "5oeDx6NCAR2X"
      }
    },
    {
      "cell_type": "markdown",
      "source": [
        "- How to calculate accuracy?\n",
        "\n",
        "$$\n",
        "\\text{accuracy}\n",
        "=\n",
        "\\cfrac\n",
        "{\\text{number of correct}}\n",
        "{\\text{number of all data}}\n",
        "$$\n",
        "\n",
        "- So, based on the above table\n",
        "\n",
        "$$\n",
        "\\begin{align*}\n",
        "\\text{accuracy}\n",
        "&=\n",
        "\\cfrac\n",
        "{\\text{number of correct prediction}}\n",
        "{\\text{number of all data}} \\\\\n",
        "&=\n",
        "\\cfrac\n",
        "{6}\n",
        "{8} \\\\\n",
        "\\text{accuracy}\n",
        "&=\n",
        "0.75\n",
        "\\end{align*}\n",
        "$$"
      ],
      "metadata": {
        "id": "NK8py0H9A-JI"
      }
    },
    {
      "cell_type": "markdown",
      "source": [
        "## Detail function\n",
        "---"
      ],
      "metadata": {
        "id": "fTGn2luKAR2Y"
      }
    },
    {
      "cell_type": "markdown",
      "source": [
        "- Create a **lambda** function named `calculate_accuracy` with\n",
        "  - Input\n",
        "    - `y_actual` (list), contains the true value\n",
        "    - `y_predicted` (list), contains the predicted value\n",
        "  - Output `accuracy` (float), contains the accuracy metrics"
      ],
      "metadata": {
        "id": "tEaLWiIZAR2Y"
      }
    },
    {
      "cell_type": "markdown",
      "source": [
        "## Examples\n",
        "---"
      ],
      "metadata": {
        "id": "k7TYvpqPAR2Z"
      }
    },
    {
      "cell_type": "markdown",
      "source": [
        "**Input 1**\n",
        "\n",
        "```python\n",
        "# Input\n",
        "y_actual = [1, 1, 0, 0, 1, 1, 0, 1]\n",
        "y_predicted = [0, 1, 0, 1, 1, 1, 0, 1]\n",
        "\n",
        "res = calculate_accuracy(y_actual, y_predicted)\n",
        "print(res)\n",
        "```\n",
        "\n",
        "**Output 1**\n",
        "```python\n",
        "0.75\n",
        "```"
      ],
      "metadata": {
        "id": "xBisqn3HAR2Z"
      }
    },
    {
      "cell_type": "markdown",
      "source": [
        "**Input 2**\n",
        "\n",
        "```python\n",
        "# Input\n",
        "y_actual = [1, 1, -1, -1, 1, 1, -1, 1, -1, -1]\n",
        "y_predicted = [-1, 1, -1, -1, -1, 1, -1, 1, -1, 1]\n",
        "\n",
        "res = calculate_accuracy(y_actual, y_predicted)\n",
        "print(res)\n",
        "```\n",
        "\n",
        "**Output 2**\n",
        "```python\n",
        "0.7\n",
        "```"
      ],
      "metadata": {
        "id": "mQnbYJYlAR2Z"
      }
    },
    {
      "cell_type": "markdown",
      "source": [
        "## Answer\n",
        "\n",
        "---\n",
        "- Provide the code for solving the problem\n",
        "- **Make sure your function follows the `Detail Function`**"
      ],
      "metadata": {
        "id": "2ifQ4p2BAR2Z"
      }
    },
    {
      "cell_type": "code",
      "execution_count": null,
      "metadata": {
        "id": "QqG_g8VWAR2a"
      },
      "outputs": [],
      "source": [
        "# Write your code here\n",
        "# Note: You can write your input manually\n",
        "..."
      ]
    },
    {
      "cell_type": "markdown",
      "source": [
        "# Task 4. Get the user churn\n",
        "\n",
        "Category: Medium\n",
        "\n",
        "---"
      ],
      "metadata": {
        "id": "EOdMk1QDDWhA"
      }
    },
    {
      "cell_type": "markdown",
      "source": [
        "## Task Descriptions\n",
        "---\n",
        "- Given a userID and its subscription status, create a function to determine the number of churned (unsubscribed user) on a specific month"
      ],
      "metadata": {
        "id": "rw6bdBFrDWhh"
      }
    },
    {
      "cell_type": "markdown",
      "source": [
        "**How this works**\n",
        "- Given a set of userID and subscription status\n",
        "\n",
        "```python\n",
        "# [userId, subscribe until...]\n",
        "user_data_2019 = [\n",
        "    ['123db', 'November'],\n",
        "    ['940cj', 'January'],\n",
        "    ['859do', 'March'],\n",
        "    ['948wp', 'August'],\n",
        "    ['482po', 'August'],\n",
        "    ['742bh', 'November']\n",
        "]\n",
        "```"
      ],
      "metadata": {
        "id": "2uzF4trnDWhi"
      }
    },
    {
      "cell_type": "markdown",
      "source": [
        "- Say, we want to see the number of user churned (unsubscribed) on **March**\n",
        "  - Only user `940cj` that does not have subscription renewal until **March**\n",
        "  - So, the number of churned user is 1\n",
        "\n",
        "- Say, we want to see the number of user churned (unsubscribed) on **August**,\n",
        "  - Users `['940cj', '859do']` subscribtions end before august.\n",
        "  - Thus, the number of churned user is 2"
      ],
      "metadata": {
        "id": "qu1XQk-RK5dD"
      }
    },
    {
      "cell_type": "markdown",
      "source": [
        "## Detail function\n",
        "---"
      ],
      "metadata": {
        "id": "0DgsGgpoDWhj"
      }
    },
    {
      "cell_type": "markdown",
      "source": [
        "- Create a function named `calculate_churned` with\n",
        "  - Input\n",
        "    - `user_data` (list), contains the userId and subscribe until ...\n",
        "    - `month` (str), in english, contains month to determine the churned user\n",
        "  - Output `churned` (int), contains the number of churned user before `month`"
      ],
      "metadata": {
        "id": "wAKdUFoSDWhj"
      }
    },
    {
      "cell_type": "markdown",
      "source": [
        "## Examples\n",
        "---"
      ],
      "metadata": {
        "id": "DjCgn0N5DWhj"
      }
    },
    {
      "cell_type": "markdown",
      "source": [
        "**Input 1**\n",
        "\n",
        "```python\n",
        "# Input\n",
        "user_data_2021 = [\n",
        "    ['5105', 'August'],\n",
        "    ['8806', 'August'],\n",
        "    ['1008', 'December'],\n",
        "    ['2655', 'October'],\n",
        "    ['5645', 'January'],\n",
        "    ['3660', 'February'],\n",
        "    ['1655', 'July'],\n",
        "    ['5772', 'January'],\n",
        "    ['4361', 'January'],\n",
        "    ['9155', 'March'],\n",
        "    ['7689', 'April'],\n",
        "    ['6967', 'December'],\n",
        "    ['6358', 'June'],\n",
        "    ['2075', 'September'],\n",
        "    ['9280', 'March'],\n",
        "    ['2815', 'December'],\n",
        "    ['7743', 'August'],\n",
        "    ['1087', 'February'],\n",
        "    ['9691', 'October'],\n",
        "    ['3397', 'June']\n",
        "]\n",
        "\n",
        "res = calculate_churned(user_data = user_data_2021,\n",
        "                        month = 'October')\n",
        "print(res)\n",
        "```\n",
        "\n",
        "**Output 1**\n",
        "```python\n",
        "15\n",
        "```"
      ],
      "metadata": {
        "id": "L8Dx5aboDWhk"
      }
    },
    {
      "cell_type": "markdown",
      "source": [
        "**Input 1**\n",
        "\n",
        "```python\n",
        "# Input\n",
        "user_data_2022 = [\n",
        "    ['2062', 'February'],\n",
        "    ['5679', 'October'],\n",
        "    ['4690', 'September'],\n",
        "    ['8748', 'March'],\n",
        "    ['8318', 'December'],\n",
        "    ['7814', 'February'],\n",
        "    ['9850', 'November'],\n",
        "    ['2154', 'September'],\n",
        "    ['7767', 'October'],\n",
        "    ['3755', 'January'],\n",
        "    ['3117', 'March'],\n",
        "    ['4197', 'December'],\n",
        "    ['7276', 'December'],\n",
        "    ['3387', 'May'],\n",
        "    ['2160', 'November'],\n",
        "    ['9626', 'October'],\n",
        "    ['5430', 'July'],\n",
        "    ['7055', 'January'],\n",
        "    ['7838', 'July'],\n",
        "    ['8991', 'May'],\n",
        "    ['6238', 'September'],\n",
        "    ['8033', 'October'],\n",
        "    ['8711', 'January'],\n",
        "    ['9999', 'December'],\n",
        "    ['9980', 'May'],\n",
        "    ['8282', 'September'],\n",
        "    ['1508', 'March'],\n",
        "    ['9899', 'January'],\n",
        "    ['4745', 'October'],\n",
        "    ['9615', 'August'],\n",
        "    ['8526', 'July'],\n",
        "    ['8736', 'January'],\n",
        "    ['6244', 'December'],\n",
        "    ['8319', 'August'],\n",
        "    ['1415', 'April'],\n",
        "    ['3413', 'March'],\n",
        "    ['1683', 'January'],\n",
        "    ['8825', 'November'],\n",
        "    ['6098', 'August'],\n",
        "    ['2627', 'February']\n",
        "]\n",
        "\n",
        "res = calculate_churned(user_data = user_data_2022,\n",
        "                        month = 'August')\n",
        "print(res)\n",
        "```\n",
        "\n",
        "**Output 1**\n",
        "```python\n",
        "20\n",
        "```"
      ],
      "metadata": {
        "id": "eVQBZZbdPJBQ"
      }
    },
    {
      "cell_type": "markdown",
      "source": [
        "## Answer\n",
        "\n",
        "---\n",
        "- Provide the code for solving the problem\n",
        "- **Make sure your function follows the `Detail Function`**"
      ],
      "metadata": {
        "id": "utpLqcoTDWhl"
      }
    },
    {
      "cell_type": "code",
      "execution_count": null,
      "metadata": {
        "id": "2cMCngmBDWhl"
      },
      "outputs": [],
      "source": [
        "# Write your code here\n",
        "# Note: You can write your input manually\n",
        "..."
      ]
    }
  ]
}